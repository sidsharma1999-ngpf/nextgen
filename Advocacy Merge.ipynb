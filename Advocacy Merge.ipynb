{
 "cells": [
  {
   "cell_type": "code",
   "execution_count": 1,
   "metadata": {},
   "outputs": [
    {
     "name": "stdout",
     "output_type": "stream",
     "text": [
      "Index(['Timestamp', 'Email Addre', 'What is you', 'What is you', 'School Name',\n",
      "       'Advocacy Cz', 'School District', 'County', 'Street Address', 'City',\n",
      "       'State', 'ZIP', 'Standard', 'Please subm', 'Name of Per', 'Unnamed: 15',\n",
      "       'Status', 'Link on Fin'],\n",
      "      dtype='object')\n"
     ]
    },
    {
     "name": "stderr",
     "output_type": "stream",
     "text": [
      "/Library/Frameworks/Python.framework/Versions/3.7/lib/python3.7/site-packages/ipykernel_launcher.py:19: FutureWarning: convert_objects is deprecated.  To re-infer data dtypes for object columns, use Series.infer_objects()\n",
      "For all other conversions use the data-type specific converters pd.to_datetime, pd.to_timedelta and pd.to_numeric.\n"
     ]
    }
   ],
   "source": [
    "import pandas as pd\n",
    "import numpy as np\n",
    "\n",
    "path='/Users/sidsharma/Downloads/NGPF Advocacy Data (Responses) - Second Round Advocacy Data.csv'\n",
    "advocacy_form = pd.read_csv(path)\n",
    "advocacy_form.rename(columns = lambda x: x[:11], inplace = True)\n",
    "advocacy_form.rename(columns = {'What rankin': 'Standard', \"School's St\": \"Street Address\",'School Dist': 'School District'}, inplace = True)\n",
    "advocacy_form = advocacy_form[(advocacy_form['Status'] == 'Updated') | (advocacy_form['Status'] == 'UpdatedinJKandPD') | (advocacy_form['Status'] == 'Finished')]\n",
    "advocacy_form.drop_duplicates(subset = 'School Name', inplace = True)\n",
    "print(advocacy_form.columns)\n",
    "advocacy_form = advocacy_form.apply(lambda x: x.strip() if isinstance(x, str) else x)\n",
    "advocacy_form['City'] = advocacy_form['City'].apply(lambda x: x.title() if isinstance(x, str) else x)\n",
    "advocacy_form['Street Address'] = advocacy_form['Street Address'].apply(lambda x: x.title() if isinstance(x, str) else x)\n",
    "advocacy_form['Street Address'] = (advocacy_form['Street Address'].str.replace('Street','St').str.replace('street','St').str.replace('Avenue', 'Ave')\n",
    "                                   .str.replace('Drive', 'Dr').str.replace('Boulevard', \"Blvd\").str.replace('Road', 'Rd').str.replace('.', ''))\n",
    "\n",
    "ELSI = pd.read_csv('ELSI_csv_export_6368743319348959414332.csv', skiprows = 6)\n",
    "ELSI['Location City [Public School] 2016-17'] = ELSI['Location City [Public School] 2016-17'].apply(lambda x: x.title() if isinstance(x, str) else x)\n",
    "ELSI['Grades 9-12 Students [Public School] 2016-17'] = ELSI['Grades 9-12 Students [Public School] 2016-17'].convert_objects(convert_numeric=True)\n",
    "ELSI = ELSI[ELSI['Grades 9-12 Students [Public School] 2016-17'] > 0] \n",
    "ELSI = ELSI.apply(lambda x: x.strip() if isinstance(x, str) else x)\n",
    "ELSI['Location Address 1 [Public School] 2016-17'] = ELSI['Location Address 1 [Public School] 2016-17'].apply(lambda x: x.title() if isinstance(x, str) else x)\n",
    "ELSI['Location Address 1 [Public School] 2016-17'] = (ELSI['Location Address 1 [Public School] 2016-17'].str.replace('Street','St').str.replace('street','St').str.replace('Avenue', 'Ave')\n",
    "                                   .str.replace('Drive', 'Dr').str.replace('Boulevard', \"Blvd\").str.replace('Road', 'Rd').str.replace('.', ''))\n",
    "\n",
    "advocacy_form = advocacy_form.merge(ELSI, left_on = 'City', right_on = 'Location City [Public School] 2016-17', how = 'left')\n",
    "keep = ['School Name_x', 'School District', 'State Name [Public School] Latest available year', 'Standard', 'Status'\n",
    "       ,'Location Address 1 [Public School] 2016-17', 'School Name_y', 'School ID - NCES Assigned [Public School] Latest available year', 'Street Address', 'City', 'State', 'ZIP']\n",
    "advocacy_form = advocacy_form[keep]\n",
    "path = '/Users/sidsharma/Downloads/testadvocacymerge1.csv'\n",
    "advocacy_form.to_csv(path)"
   ]
  },
  {
   "cell_type": "code",
   "execution_count": null,
   "metadata": {},
   "outputs": [],
   "source": []
  }
 ],
 "metadata": {
  "kernelspec": {
   "display_name": "Python 3",
   "language": "python",
   "name": "python3"
  },
  "language_info": {
   "codemirror_mode": {
    "name": "ipython",
    "version": 3
   },
   "file_extension": ".py",
   "mimetype": "text/x-python",
   "name": "python",
   "nbconvert_exporter": "python",
   "pygments_lexer": "ipython3",
   "version": "3.7.1"
  }
 },
 "nbformat": 4,
 "nbformat_minor": 2
}
